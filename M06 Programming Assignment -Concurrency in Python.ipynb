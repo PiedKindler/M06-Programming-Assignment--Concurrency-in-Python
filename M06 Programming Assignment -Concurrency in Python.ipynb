{
 "cells": [
  {
   "cell_type": "code",
   "execution_count": 1,
   "id": "b1a649dc-f837-4d9f-b981-73c676d8a6b3",
   "metadata": {},
   "outputs": [],
   "source": [
    "#     Misty Mayfield\n",
    "#     CO3937652\n",
    "#     SDEV220 Spring Software Development\n",
    "#     M06 Programming Assignment- Concurrency in Python\n",
    "#     2/27/23"
   ]
  },
  {
   "cell_type": "code",
   "execution_count": 27,
   "id": "3baf5464-a01a-46e4-8ea0-ff568846c1f5",
   "metadata": {},
   "outputs": [
    {
     "data": {
      "text/plain": [
       "time.struct_time(tm_year=2023, tm_mon=2, tm_mday=27, tm_hour=0, tm_min=0, tm_sec=0, tm_wday=0, tm_yday=58, tm_isdst=-1)"
      ]
     },
     "execution_count": 27,
     "metadata": {},
     "output_type": "execute_result"
    }
   ],
   "source": [
    "#     13.1 Write current date as string into today.txt\n",
    "from datetime import date, time\n",
    "from datetime import datetime\n",
    "import time\n",
    "\n",
    "now = date.today()\n",
    "now_fmt=now.isoformat()\n",
    "\n",
    "with open('today.txt', 'wt') as output:\n",
    "    print(now_fmt, file = output)\n",
    "    \n",
    "now\n",
    "\n",
    "#     13.2 Read today.txt into string today_string\n",
    "with open('today.txt', 'rt') as input:\n",
    "    today_string = input.read()\n",
    "\n",
    "#     13.3 Parse the date from today_string\n",
    "fmt = \"%Y-%m-%d\\n\"\n",
    "time.strptime(today_string, fmt)"
   ]
  },
  {
   "cell_type": "code",
   "execution_count": 38,
   "id": "0b6e09e5-610e-4295-ba82-885907479e4d",
   "metadata": {},
   "outputs": [
    {
     "name": "stdout",
     "output_type": "stream",
     "text": [
      "Pause is 0.5286677528597958 seconds.  Current time is: 2023-02-28 03:32:51.186679\n"
     ]
    }
   ],
   "source": [
    "#     15.1 Use multiprocessing to make 3 separate processes. Make each wait a random number of seconds between 0 and 1, print current time, then exit\n",
    "import multiprocessing\n",
    "import os\n",
    "from datetime import datetime\n",
    "import time\n",
    "import random\n",
    "\n",
    "def now(secs):\n",
    "    print('Pause is', secs, 'seconds.  Current time is:', datetime.utcnow())\n",
    "    \n",
    "if __name__ == '__main__':\n",
    "    now(secs)\n",
    "    time.sleep(secs)\n",
    "    for n in range(3):\n",
    "        secs = random.random()\n",
    "        p = multiprocessing.Process(target = now, args = (secs,))\n",
    "        p.start()       "
   ]
  }
 ],
 "metadata": {
  "kernelspec": {
   "display_name": "Python 3 (ipykernel)",
   "language": "python",
   "name": "python3"
  },
  "language_info": {
   "codemirror_mode": {
    "name": "ipython",
    "version": 3
   },
   "file_extension": ".py",
   "mimetype": "text/x-python",
   "name": "python",
   "nbconvert_exporter": "python",
   "pygments_lexer": "ipython3",
   "version": "3.9.13"
  }
 },
 "nbformat": 4,
 "nbformat_minor": 5
}
